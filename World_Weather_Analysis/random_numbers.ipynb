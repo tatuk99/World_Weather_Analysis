{
 "cells": [
  {
   "cell_type": "code",
   "execution_count": 4,
   "id": "cf900a1b",
   "metadata": {},
   "outputs": [],
   "source": [
    "# Import random module\n",
    "import random"
   ]
  },
  {
   "cell_type": "code",
   "execution_count": 5,
   "id": "75f4d4e4",
   "metadata": {},
   "outputs": [
    {
     "data": {
      "text/plain": [
       "8"
      ]
     },
     "execution_count": 5,
     "metadata": {},
     "output_type": "execute_result"
    }
   ],
   "source": [
    "random.randint(-90,90)"
   ]
  },
  {
   "cell_type": "code",
   "execution_count": 7,
   "id": "2b555b4d",
   "metadata": {},
   "outputs": [
    {
     "data": {
      "text/plain": [
       "0.45435157066056453"
      ]
     },
     "execution_count": 7,
     "metadata": {},
     "output_type": "execute_result"
    }
   ],
   "source": [
    "random.random()"
   ]
  },
  {
   "cell_type": "code",
   "execution_count": 8,
   "id": "3f0cd706",
   "metadata": {},
   "outputs": [],
   "source": [
    "x = 1\n",
    "latitudes = []\n",
    "while x < 11:\n",
    "    random_lat = random.randint(-90, 89) + random.random()\n",
    "    latitudes.append(random_lat)\n",
    "    x += 1"
   ]
  },
  {
   "cell_type": "code",
   "execution_count": 9,
   "id": "9877519d",
   "metadata": {},
   "outputs": [
    {
     "data": {
      "text/plain": [
       "11"
      ]
     },
     "execution_count": 9,
     "metadata": {},
     "output_type": "execute_result"
    }
   ],
   "source": [
    "x"
   ]
  },
  {
   "cell_type": "code",
   "execution_count": 11,
   "id": "8879f7c8",
   "metadata": {},
   "outputs": [
    {
     "data": {
      "text/plain": [
       "[67.1861670753703,\n",
       " -42.99270996007963,\n",
       " 26.528832246689696,\n",
       " 68.31118881257102,\n",
       " -56.473894723911314,\n",
       " -84.60377648718682,\n",
       " -56.59656459090829,\n",
       " 45.348141136363104,\n",
       " 28.92827893807494,\n",
       " -36.52893906013945]"
      ]
     },
     "execution_count": 11,
     "metadata": {},
     "output_type": "execute_result"
    }
   ],
   "source": [
    "latitudes"
   ]
  },
  {
   "cell_type": "code",
   "execution_count": 17,
   "id": "b34532d8",
   "metadata": {},
   "outputs": [
    {
     "data": {
      "text/plain": [
       "70"
      ]
     },
     "execution_count": 17,
     "metadata": {},
     "output_type": "execute_result"
    }
   ],
   "source": [
    "random.randrange(-90,90,step=1)"
   ]
  },
  {
   "cell_type": "raw",
   "id": "22a6e30b",
   "metadata": {},
   "source": [
    "random.randrange(-90,90,step=3)"
   ]
  },
  {
   "cell_type": "code",
   "execution_count": 18,
   "id": "0f170564",
   "metadata": {},
   "outputs": [
    {
     "data": {
      "text/plain": [
       "21"
      ]
     },
     "execution_count": 18,
     "metadata": {},
     "output_type": "execute_result"
    }
   ],
   "source": [
    "random.randrange(-90,90,step=3)"
   ]
  },
  {
   "cell_type": "code",
   "execution_count": 19,
   "id": "0ab781ff",
   "metadata": {},
   "outputs": [],
   "source": [
    "import numpy as np"
   ]
  },
  {
   "cell_type": "code",
   "execution_count": 20,
   "id": "16988487",
   "metadata": {},
   "outputs": [
    {
     "data": {
      "text/plain": [
       "array([ 80.35300901,  -6.17765685,  77.14694222,  56.46929154,\n",
       "       -28.22927818,  52.85701755,  38.95925805, -17.32201602,\n",
       "        41.21577624,  80.20594752,  38.57169936,  56.05403441,\n",
       "        88.06461111, -78.00564526,  62.37758766, -48.91809472,\n",
       "       -54.06080053,  -9.23258408,  35.59231692,  87.98362387,\n",
       "       -67.98103743, -81.07321716,  59.27937461,   5.13790953,\n",
       "        75.1252612 ,  52.1279789 , -76.3485423 , -25.56344278,\n",
       "        76.52751472,  33.36265576,  77.01413953,  14.75517747,\n",
       "       -83.83999236,  84.30860938, -39.39300254,  42.74007817,\n",
       "        69.36825585, -78.52822796, -37.47788982,  75.47170032,\n",
       "        38.02311386,  21.2822558 ,  65.11701993,  34.36015506,\n",
       "       -58.54305859, -35.80673174,   9.39882217, -47.99643294,\n",
       "       -39.07440238,  68.10940558,  37.36905649,  59.6941764 ,\n",
       "        46.99848765, -55.61547934,   4.53391093, -10.35439074,\n",
       "       -24.7493174 , -42.53583395, -63.90993411, -84.77400347,\n",
       "       -46.39246931, -16.47119125,  43.6055412 , -87.29752326,\n",
       "        24.89230281, -79.34314864,  20.53746235, -14.16651845,\n",
       "        26.97227572,  13.70396765,  13.81282556,  72.26306821,\n",
       "        34.28783615, -86.61984181,  73.3336178 ,  -6.49056878,\n",
       "       -86.32478617, -52.86511322, -13.28977947, -40.42293568,\n",
       "       -41.30770362, -71.79510249,  68.69111822, -60.9073449 ,\n",
       "        55.66608012,  59.92260186, -65.29573827,  27.07213185,\n",
       "       -30.7722581 ,  70.75365253,  37.91072909, -51.72448815,\n",
       "       -39.02183101, -68.71194569,  24.79055291,  70.72014775,\n",
       "       -44.57896104,  72.86011082, -64.22374804,  -1.73936528])"
      ]
     },
     "execution_count": 20,
     "metadata": {},
     "output_type": "execute_result"
    }
   ],
   "source": [
    "np.random.uniform(-90, 90, size=100)"
   ]
  },
  {
   "cell_type": "code",
   "execution_count": 21,
   "id": "e42754aa",
   "metadata": {},
   "outputs": [],
   "source": [
    "import timeit"
   ]
  },
  {
   "cell_type": "code",
   "execution_count": 23,
   "id": "16674851",
   "metadata": {},
   "outputs": [
    {
     "name": "stdout",
     "output_type": "stream",
     "text": [
      "12.6 µs ± 104 ns per loop (mean ± std. dev. of 7 runs, 100000 loops each)\n"
     ]
    }
   ],
   "source": [
    "%timeit np.random.uniform(-90, 90, size =1500)"
   ]
  },
  {
   "cell_type": "code",
   "execution_count": 24,
   "id": "e6853ed5",
   "metadata": {},
   "outputs": [
    {
     "name": "stdout",
     "output_type": "stream",
     "text": [
      "1.35 ms ± 39.3 µs per loop (mean ± std. dev. of 7 runs, 1000 loops each)\n"
     ]
    }
   ],
   "source": [
    "def latitudes(size):\n",
    "    latitudes = []\n",
    "    x = 0\n",
    "    while x < (size):\n",
    "        random_lat = random.randint(-90, 90) + random.random()\n",
    "        latitudes.append(random_lat)\n",
    "        x += 1\n",
    "    return latitudes\n",
    "# Call the function with 1500.\n",
    "%timeit latitudes(1500)"
   ]
  },
  {
   "cell_type": "code",
   "execution_count": null,
   "id": "3a40a8ab",
   "metadata": {},
   "outputs": [],
   "source": []
  }
 ],
 "metadata": {
  "kernelspec": {
   "display_name": "PythonData",
   "language": "python",
   "name": "pythondata"
  },
  "language_info": {
   "codemirror_mode": {
    "name": "ipython",
    "version": 3
   },
   "file_extension": ".py",
   "mimetype": "text/x-python",
   "name": "python",
   "nbconvert_exporter": "python",
   "pygments_lexer": "ipython3",
   "version": "3.9.7"
  }
 },
 "nbformat": 4,
 "nbformat_minor": 5
}
